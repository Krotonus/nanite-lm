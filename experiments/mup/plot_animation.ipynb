{
 "cells": [
  {
   "cell_type": "code",
   "execution_count": 1,
   "id": "46c16247-9048-4dfd-9591-61d2a32b73b6",
   "metadata": {},
   "outputs": [],
   "source": [
    "import math\n",
    "from pathlib import Path\n",
    "import json\n",
    "import matplotlib.pyplot as plt\n",
    "import numpy as np\n",
    "import matplotlib.animation as animation\n",
    "import matplotlib\n",
    "from matplotlib import rc\n",
    "from multiprocessing import Pool\n",
    "import argparse"
   ]
  },
  {
   "cell_type": "code",
   "execution_count": 2,
   "id": "b3f4a57a-2fdb-45cb-ac94-411aeda65b4c",
   "metadata": {},
   "outputs": [],
   "source": [
    "probe_folders = [\"/data/horse/ws/lama722b-nanite-lm/dumps/mup_debug/\"]\n",
    "rc(\"animation\", html=\"jshtml\")\n",
    "matplotlib.rcParams[\"animation.embed_limit\"] = 2**128\n",
    "\n",
    "DEFAULT_QUANTILES = [0.001, 0.01, 0.05, 0.1, 0.3, 0.5, 0.7, 0.9, 0.95, 0.99, 0.999]\n",
    "DATAS_PER_FILE = {}\n",
    "datas = []\n",
    "NUM_LAYERS = 2  # TODO: Deduce from files\n",
    "COLORS = [f\"tab:{x}\" for x in [\"blue\", \"orange\", \"green\", \"red\"]]"
   ]
  },
  {
   "cell_type": "code",
   "execution_count": 3,
   "id": "fb2c745a-c3b3-409d-ac2e-78589e68d19e",
   "metadata": {},
   "outputs": [
    {
     "name": "stdout",
     "output_type": "stream",
     "text": [
      "Loading  mup_debug\n"
     ]
    }
   ],
   "source": [
    "for f in probe_folders:\n",
    "    name = Path(f).name\n",
    "    print(\"Loading \", name)\n",
    "    file = None\n",
    "    for probe_test in [\"probe/probe.0.jsonl\", \"probe.json\"]:\n",
    "        if (Path(f) / probe_test).exists():\n",
    "            file = Path(f) / probe_test\n",
    "    assert file is not None, \"Could not find probe json file\"\n",
    "    data = file.read_text()\n",
    "    datas = []\n",
    "    for line in data.splitlines():\n",
    "        if line == \"\":\n",
    "            continue\n",
    "        datas.append(json.loads(line))\n",
    "        datas[-1].setdefault(\"quantiles\", DEFAULT_QUANTILES)\n",
    "\n",
    "    DATAS_PER_FILE[name] = datas\n",
    "    # Assumes layers have the form\n",
    "    # `FSDP.module.blocks.{LAYER_NUM}...`\n",
    "\n",
    "    NUM_LAYERS = max(\n",
    "        NUM_LAYERS,\n",
    "        1\n",
    "        + max(\n",
    "            int(k.split(\"FSDPMupTransformer.layers.\", 1)[1].split(\".\")[0])\n",
    "            for k in datas[0][\"data\"].keys()\n",
    "            if k.startswith(\"FSDPMupTransformer.layers.\") and k.endswith(\"::w\")\n",
    "        ),\n",
    "    )\n",
    "    for d in datas:\n",
    "        d[\"meta\"][\"it\"] = d[\"meta\"][\"global_step\"]\n",
    "    assert NUM_LAYERS > 0, \"Couldn't deduce the model depth\""
   ]
  },
  {
   "cell_type": "code",
   "execution_count": 4,
   "id": "c44c0d4b-d830-4712-b60a-4e3a7a229c1f",
   "metadata": {},
   "outputs": [],
   "source": [
    "def get_mean_quantiles(df, names):\n",
    "    means = []\n",
    "    quantiles = [[] for _ in df[\"quantiles\"]]\n",
    "    for name in names:\n",
    "        d = df[\"data\"][name]\n",
    "        for qi, qval in enumerate(d[\"quantiles\"]):\n",
    "            quantiles[qi].append(qval)\n",
    "        means.append(d[\"mean\"])\n",
    "    return np.array(means), np.array(quantiles)"
   ]
  },
  {
   "cell_type": "code",
   "execution_count": 5,
   "id": "ac584009-07a1-43c6-ba7c-e36cac53dfe3",
   "metadata": {},
   "outputs": [
    {
     "name": "stdout",
     "output_type": "stream",
     "text": [
      "FSDPMupTransformer.layers.0.feed_forward.w2\n",
      "FSDPMupTransformer.layers.0.feed_forward.w1\n",
      "FSDPMupTransformer.layers.0.attention\n",
      "FSDPMupTransformer.layers.0.attention.wo\n",
      "FSDPMupTransformer.layers.0.attention_norm\n",
      "FSDPMupTransformer.layers.0.attention.wv\n",
      "FSDPMupTransformer.layers.0.ffn_norm\n",
      "FSDPMupTransformer.layers.0.feed_forward.w3\n",
      "FSDPMupTransformer.layers.0.attention.wk\n",
      "FSDPMupTransformer.layers.0.attention.wq\n",
      "--------------------\n",
      "w.g\n",
      "in\n",
      "attn_entropy\n",
      "in.g\n",
      "resid\n",
      "w\n",
      "attn_logits\n",
      "out\n",
      "out.g\n",
      "resid.g\n"
     ]
    }
   ],
   "source": [
    "# m, q = get_mean_quantiles(datas[0], [\"FSDP.module.blocks.22.mlp.fc2::in\", \"FSDP.module.blocks.23.mlp.fc2::in\"])\n",
    "possible_keys = {k.split(\"::\")[0] for k in datas[0][\"data\"].keys() if \"layers.0.\" in k}\n",
    "possible_suff = {k.split(\"::\")[1] for k in datas[0][\"data\"].keys() if \"layers.0.\" in k}\n",
    "print(\"\\n\".join([str(x) for x in possible_keys]))\n",
    "print(\"-\"*20)\n",
    "print(\"\\n\".join([str(x) for x in possible_suff]))"
   ]
  },
  {
   "cell_type": "code",
   "execution_count": 6,
   "id": "08a226fa-4e8a-4629-911d-e01e7d11860c",
   "metadata": {},
   "outputs": [],
   "source": [
    "class Plotter:\n",
    "    def __init__(self, ax, run, layers, color, timesteps) -> None:\n",
    "        datas = DATAS_PER_FILE[run]\n",
    "        for i in timesteps:\n",
    "            for layer in layers:\n",
    "                if layer not in datas[i][\"data\"]:\n",
    "                    raise ValueError(f\"Run `{run}`: layer `{layer}` not found!\")\n",
    "        self.x = np.arange(0, len(layers), 1)\n",
    "        (self.mean,) = ax.plot(self.x, self.x, color=color, label=run)\n",
    "        self.fills = []\n",
    "        self.animate_data = [get_mean_quantiles(datas[i], layers) for i in timesteps]\n",
    "        self.iters = [datas[i][\"meta\"][\"it\"] for i in timesteps]\n",
    "        self.minimum = min(\n",
    "            [\n",
    "                min(np.nanmin(quants[3]), np.nanmin(means))\n",
    "                for means, quants in self.animate_data\n",
    "            ]\n",
    "        )\n",
    "        self.maximum = max(\n",
    "            [\n",
    "                max(np.nanmax(quants[-4]), np.nanmax(means))\n",
    "                for means, quants in self.animate_data\n",
    "            ]\n",
    "        )\n",
    "        if not math.isfinite(self.minimum) or not math.isfinite(self.maximum):\n",
    "            raise ValueError(\n",
    "                f\"Layer `{layers[0]}`: invalid min/max computed: {self.minimum}/{self.maximum}\"\n",
    "            )\n",
    "        self.ax = ax\n",
    "        self.color = color\n",
    "        self.run_name = run\n",
    "\n",
    "    def animate(self, i):\n",
    "        for f in self.fills:\n",
    "            f.remove()\n",
    "        self.fills.clear()\n",
    "        means, quants = self.animate_data[i]\n",
    "        self.fills += [\n",
    "            self.ax.fill_between(\n",
    "                x=self.x, y1=quants[j], y2=quants[-1 - j], alpha=0.2, color=self.color\n",
    "            )\n",
    "            for j in [0, 1, 2, 3, 4, 5]\n",
    "        ]\n",
    "        self.mean.set_ydata(means)\n",
    "        self.mean.set_label(f\"{self.run_name} it={self.iters[i]}\")\n",
    "        return self.mean"
   ]
  },
  {
   "cell_type": "code",
   "execution_count": 7,
   "id": "98fb56f5-a08b-4ca9-babe-43cf362f6f9b",
   "metadata": {},
   "outputs": [],
   "source": [
    "def plot_depth_distr_time(layer_fmt, to_file=None, runs=None, subsample=8):\n",
    "    plt.ioff()\n",
    "    while isinstance(layer_fmt, str) or isinstance(layer_fmt[0], str):\n",
    "        layer_fmt = [layer_fmt]\n",
    "\n",
    "    if layer_fmt[0][0].format(0) not in datas[0][\"data\"].keys():\n",
    "        return\n",
    "\n",
    "    if runs is None:\n",
    "        runs = list(DATAS_PER_FILE.keys())\n",
    "    LAYERS = list(range(NUM_LAYERS))\n",
    "    nrows = len(layer_fmt)\n",
    "    ncols = len(layer_fmt[0])\n",
    "    fig, axs = plt.subplots(\n",
    "        nrows=nrows,\n",
    "        ncols=ncols,\n",
    "        squeeze=False,\n",
    "        sharex=True,\n",
    "        figsize=[min(6 * ncols, 14), min(5 * nrows, 8)],\n",
    "        layout=\"compressed\",\n",
    "    )\n",
    "    timesteps = range(0, len(datas), subsample)\n",
    "    plotters = {}\n",
    "    for i in range(nrows):\n",
    "        for j in range(ncols):\n",
    "            print(layer_fmt[i][j])\n",
    "            plotters[(i, j)] = [\n",
    "                Plotter(\n",
    "                    axs[i, j],\n",
    "                    run,\n",
    "                    [layer_fmt[i][j].format(layer) for layer in LAYERS],\n",
    "                    color,\n",
    "                    timesteps,\n",
    "                )\n",
    "                for run, color in zip(runs, COLORS)\n",
    "            ]\n",
    "            minimum = min(p.minimum for p in plotters[(i, j)])\n",
    "            maximum = max(p.maximum for p in plotters[(i, j)])\n",
    "            axs[i, j].set_ylim([minimum, maximum])\n",
    "\n",
    "    def animate(t):\n",
    "        out = []\n",
    "        axs[0, 0].legend(loc=\"upper right\")\n",
    "        for k, v in plotters.items():\n",
    "            i, j = k\n",
    "            axs[i, j].set_title(layer_fmt[i][j])\n",
    "            if i == nrows - 1:\n",
    "                axs[i, j].set_xlabel(\"depth\")\n",
    "            for p in v:\n",
    "                out.append(p.animate(t))\n",
    "        return out\n",
    "\n",
    "    ani = animation.FuncAnimation(\n",
    "        fig, animate, frames=len(timesteps), interval=500, blit=True\n",
    "    )\n",
    "    if to_file is not None:\n",
    "        print(\"Writing to\", to_file)\n",
    "        Path(to_file).write_text(ani.to_jshtml())"
   ]
  },
  {
   "cell_type": "code",
   "execution_count": 26,
   "id": "897ba6df-6448-4ff8-9baf-96bf616b2ff8",
   "metadata": {},
   "outputs": [],
   "source": [
    "OUTPUT_FOLDER_NAME = \"_AND_\".join([Path(f).name for f in probe_folders])\n",
    "RENDER_OUT_PATH = (Path(\"render_out\") / OUTPUT_FOLDER_NAME).absolute()\n",
    "RENDER_OUT_PATH.mkdir(parents=True, exist_ok=True)\n",
    "\n",
    "\n",
    "def _render_attn():\n",
    "    to_file = None # RENDER_OUT_PATH / \"attention.html\"\n",
    "    plot_depth_distr_time(\n",
    "        [\n",
    "            [\n",
    "                \"FSDPMupTransformer.layers.{}.attention::attn_logits\",\n",
    "                \"FSDPMupTransformer.layers.{}.attention::attn_entropy\",\n",
    "                \"FSDPMupTransformer.layers.{}.attention.wo::in\",\n",
    "            ],\n",
    "            [\n",
    "                \"FSDPMupTransformer.layers.{}.attention.wq::out\",\n",
    "                \"FSDPMupTransformer.layers.{}.attention.wk::out\",\n",
    "                \"FSDPMupTransformer.layers.{}.attention.wv::out\",\n",
    "            ],\n",
    "        ],\n",
    "        to_file=to_file,\n",
    "        subsample=1,\n",
    "    )\n",
    "\n",
    "\n",
    "def _render_res():\n",
    "    print(\"## RESIDUAL\")\n",
    "    to_file = RENDER_OUT_PATH / \"residual.html\"\n",
    "    plot_depth_distr_time(\n",
    "        [\n",
    "            [\n",
    "                # \"FSDPMupTransformer.layers.{}::res_ffn\",\n",
    "                # \"FSDPMupTransformer.layers.{}::res_attn\",\n",
    "                \"FSDPMupTransformer.layers.{}.feed_forward.w2::out\",\n",
    "                \"FSDPMupTransformer.layers.{}.attention.wo::out\",\n",
    "                \"FSDPMupTransformer.layers.{}.attention_norm::resid\",\n",
    "                \n",
    "            ],\n",
    "        ],\n",
    "        to_file=to_file,\n",
    "        subsample=1,\n",
    "    )"
   ]
  },
  {
   "cell_type": "code",
   "execution_count": 27,
   "id": "a3e76f90-a916-4d77-9edb-bfc7a01a568a",
   "metadata": {},
   "outputs": [],
   "source": [
    "def _render_to_file(linear_layer: str):\n",
    "    if linear_layer == \"__res__\":\n",
    "        return _render_res()\n",
    "    if linear_layer == \"__attn__\":\n",
    "        return _render_attn()\n",
    "    if f\"{linear_layer.format(0)}::out\" not in datas[0][\"data\"].keys():\n",
    "        return\n",
    "    print(\"## \", linear_layer)\n",
    "    to_file = linear_layer.split(\"{}\", 1)[-1].replace(\".\", \"\") + \".html\"\n",
    "    to_file = RENDER_OUT_PATH / to_file\n",
    "    plot_depth_distr_time(\n",
    "        [\n",
    "            [f\"{linear_layer}::{suffix}\" for suffix in [\"in\", \"w\", \"out\"]],\n",
    "            [f\"{linear_layer}::{suffix}.g\" for suffix in [\"in\", \"w\", \"out\"]],\n",
    "        ],\n",
    "        to_file=to_file,\n",
    "        subsample=1,\n",
    "    )"
   ]
  },
  {
   "cell_type": "code",
   "execution_count": 28,
   "id": "72bb317a-2e9b-4df2-aaff-9b8564b80c33",
   "metadata": {},
   "outputs": [
    {
     "name": "stdout",
     "output_type": "stream",
     "text": [
      "## RESIDUAL\n",
      "FSDPMupTransformer.layers.{}.feed_forward.w2::out\n",
      "FSDPMupTransformer.layers.{}.attention.wo::out\n",
      "FSDPMupTransformer.layers.{}.attention_norm::resid\n",
      "Writing to /data/horse/ws/lama722b-nanite-lm/nanite-lm/experiments/mup/render_out/mup_debug/residual.html\n"
     ]
    }
   ],
   "source": [
    "_render_res()"
   ]
  },
  {
   "cell_type": "code",
   "execution_count": 25,
   "id": "974b24ef-b710-43e8-8f6c-759fda087a9e",
   "metadata": {},
   "outputs": [
    {
     "data": {
      "text/plain": [
       "['FSDPMupTransformer.layers.0.attention_norm::resid',\n",
       " 'FSDPMupTransformer.layers.1.attention_norm::resid',\n",
       " 'FSDPMupTransformer.layers.1.attention_norm::resid.g',\n",
       " 'FSDPMupTransformer.layers.0.attention_norm::resid.g']"
      ]
     },
     "execution_count": 25,
     "metadata": {},
     "output_type": "execute_result"
    }
   ],
   "source": [
    "[k for k in datas[0]['data'].keys() if '.attention_norm' in k]"
   ]
  },
  {
   "cell_type": "code",
   "execution_count": 29,
   "id": "4c41cf19-850f-49b3-a9bb-930f78e98555",
   "metadata": {},
   "outputs": [
    {
     "data": {
      "text/plain": [
       "{'shape': [1, 256, 128],\n",
       " 'mean': 0.00012335029896348715,\n",
       " 'std': 0.08721201121807098,\n",
       " 'skew': 0.01824212236078141,\n",
       " 'kurtosis': 2.8631557329971455,\n",
       " 'abs.mean': 0.06972432881593704,\n",
       " 'max': 0.263671875,\n",
       " 'min': -0.263671875,\n",
       " 'quantiles': [-0.263671875,\n",
       "  -0.263671875,\n",
       "  -0.263671875,\n",
       "  -0.26171875,\n",
       "  -0.25,\n",
       "  -0.2060546875,\n",
       "  -0.142578125,\n",
       "  -0.1123046875,\n",
       "  -0.0458984375,\n",
       "  4.673004150390625e-05,\n",
       "  0.04443359375,\n",
       "  0.11328125,\n",
       "  0.146484375,\n",
       "  0.203125,\n",
       "  0.24609375,\n",
       "  0.259765625,\n",
       "  0.263031005859375,\n",
       "  0.2636070251464844,\n",
       "  0.26366424560546875]}"
      ]
     },
     "execution_count": 29,
     "metadata": {},
     "output_type": "execute_result"
    }
   ],
   "source": [
    "datas[0]['data']['FSDPMupTransformer.layers.0.attention_norm::resid']"
   ]
  },
  {
   "cell_type": "code",
   "execution_count": 14,
   "id": "aacd3bc2-6ea5-4186-bf7e-f5339df14601",
   "metadata": {
    "scrolled": true
   },
   "outputs": [
    {
     "name": "stdout",
     "output_type": "stream",
     "text": [
      "## RESIDUAL\n",
      "> \u001b[32m/tmp/ipykernel_2800681/583151896.py\u001b[39m(\u001b[92m30\u001b[39m)\u001b[36m_render_res\u001b[39m\u001b[34m()\u001b[39m\n",
      "\u001b[32m     29\u001b[39m     \u001b[38;5;28;01mfrom\u001b[39;00m ipdb \u001b[38;5;28;01mimport\u001b[39;00m set_trace; set_trace()\n",
      "\u001b[32m---> 30\u001b[39m     plot_depth_distr_time(\n",
      "\u001b[32m     31\u001b[39m         [\n",
      "\n"
     ]
    },
    {
     "ename": "KeyboardInterrupt",
     "evalue": "",
     "output_type": "error",
     "traceback": [
      "\u001b[31m---------------------------------------------------------------------------\u001b[39m",
      "\u001b[31mKeyboardInterrupt\u001b[39m                         Traceback (most recent call last)",
      "\u001b[36mCell\u001b[39m\u001b[36m \u001b[39m\u001b[32mIn[14]\u001b[39m\u001b[32m, line 2\u001b[39m\n\u001b[32m      1\u001b[39m \u001b[38;5;28;01mwith\u001b[39;00m Pool(\u001b[32m10\u001b[39m) \u001b[38;5;28;01mas\u001b[39;00m p:\n\u001b[32m----> \u001b[39m\u001b[32m2\u001b[39m     \u001b[43mp\u001b[49m\u001b[43m.\u001b[49m\u001b[43mmap\u001b[49m\u001b[43m(\u001b[49m\n\u001b[32m      3\u001b[39m \u001b[43m        \u001b[49m\u001b[43m_render_to_file\u001b[49m\u001b[43m,\u001b[49m\n\u001b[32m      4\u001b[39m \u001b[43m        \u001b[49m\u001b[43m[\u001b[49m\n\u001b[32m      5\u001b[39m \u001b[43m            \u001b[49m\u001b[33;43m\"\u001b[39;49m\u001b[33;43m__res__\u001b[39;49m\u001b[33;43m\"\u001b[39;49m\u001b[43m,\u001b[49m\n\u001b[32m      6\u001b[39m \u001b[43m        \u001b[49m\u001b[43m]\u001b[49m\u001b[43m,\u001b[49m\n\u001b[32m      7\u001b[39m \u001b[43m    \u001b[49m\u001b[43m)\u001b[49m\n",
      "\u001b[36mFile \u001b[39m\u001b[32m/software/genoa/r24.04/Python/3.11.5-GCCcore-13.2.0/lib/python3.11/multiprocessing/pool.py:367\u001b[39m, in \u001b[36mPool.map\u001b[39m\u001b[34m(self, func, iterable, chunksize)\u001b[39m\n\u001b[32m    362\u001b[39m \u001b[38;5;28;01mdef\u001b[39;00m\u001b[38;5;250m \u001b[39m\u001b[34mmap\u001b[39m(\u001b[38;5;28mself\u001b[39m, func, iterable, chunksize=\u001b[38;5;28;01mNone\u001b[39;00m):\n\u001b[32m    363\u001b[39m \u001b[38;5;250m    \u001b[39m\u001b[33;03m'''\u001b[39;00m\n\u001b[32m    364\u001b[39m \u001b[33;03m    Apply `func` to each element in `iterable`, collecting the results\u001b[39;00m\n\u001b[32m    365\u001b[39m \u001b[33;03m    in a list that is returned.\u001b[39;00m\n\u001b[32m    366\u001b[39m \u001b[33;03m    '''\u001b[39;00m\n\u001b[32m--> \u001b[39m\u001b[32m367\u001b[39m     \u001b[38;5;28;01mreturn\u001b[39;00m \u001b[38;5;28;43mself\u001b[39;49m\u001b[43m.\u001b[49m\u001b[43m_map_async\u001b[49m\u001b[43m(\u001b[49m\u001b[43mfunc\u001b[49m\u001b[43m,\u001b[49m\u001b[43m \u001b[49m\u001b[43miterable\u001b[49m\u001b[43m,\u001b[49m\u001b[43m \u001b[49m\u001b[43mmapstar\u001b[49m\u001b[43m,\u001b[49m\u001b[43m \u001b[49m\u001b[43mchunksize\u001b[49m\u001b[43m)\u001b[49m\u001b[43m.\u001b[49m\u001b[43mget\u001b[49m\u001b[43m(\u001b[49m\u001b[43m)\u001b[49m\n",
      "\u001b[36mFile \u001b[39m\u001b[32m/software/genoa/r24.04/Python/3.11.5-GCCcore-13.2.0/lib/python3.11/multiprocessing/pool.py:768\u001b[39m, in \u001b[36mApplyResult.get\u001b[39m\u001b[34m(self, timeout)\u001b[39m\n\u001b[32m    767\u001b[39m \u001b[38;5;28;01mdef\u001b[39;00m\u001b[38;5;250m \u001b[39m\u001b[34mget\u001b[39m(\u001b[38;5;28mself\u001b[39m, timeout=\u001b[38;5;28;01mNone\u001b[39;00m):\n\u001b[32m--> \u001b[39m\u001b[32m768\u001b[39m     \u001b[38;5;28;43mself\u001b[39;49m\u001b[43m.\u001b[49m\u001b[43mwait\u001b[49m\u001b[43m(\u001b[49m\u001b[43mtimeout\u001b[49m\u001b[43m)\u001b[49m\n\u001b[32m    769\u001b[39m     \u001b[38;5;28;01mif\u001b[39;00m \u001b[38;5;129;01mnot\u001b[39;00m \u001b[38;5;28mself\u001b[39m.ready():\n\u001b[32m    770\u001b[39m         \u001b[38;5;28;01mraise\u001b[39;00m \u001b[38;5;167;01mTimeoutError\u001b[39;00m\n",
      "\u001b[36mFile \u001b[39m\u001b[32m/software/genoa/r24.04/Python/3.11.5-GCCcore-13.2.0/lib/python3.11/multiprocessing/pool.py:765\u001b[39m, in \u001b[36mApplyResult.wait\u001b[39m\u001b[34m(self, timeout)\u001b[39m\n\u001b[32m    764\u001b[39m \u001b[38;5;28;01mdef\u001b[39;00m\u001b[38;5;250m \u001b[39m\u001b[34mwait\u001b[39m(\u001b[38;5;28mself\u001b[39m, timeout=\u001b[38;5;28;01mNone\u001b[39;00m):\n\u001b[32m--> \u001b[39m\u001b[32m765\u001b[39m     \u001b[38;5;28;43mself\u001b[39;49m\u001b[43m.\u001b[49m\u001b[43m_event\u001b[49m\u001b[43m.\u001b[49m\u001b[43mwait\u001b[49m\u001b[43m(\u001b[49m\u001b[43mtimeout\u001b[49m\u001b[43m)\u001b[49m\n",
      "\u001b[36mFile \u001b[39m\u001b[32m/software/genoa/r24.04/Python/3.11.5-GCCcore-13.2.0/lib/python3.11/threading.py:622\u001b[39m, in \u001b[36mEvent.wait\u001b[39m\u001b[34m(self, timeout)\u001b[39m\n\u001b[32m    620\u001b[39m signaled = \u001b[38;5;28mself\u001b[39m._flag\n\u001b[32m    621\u001b[39m \u001b[38;5;28;01mif\u001b[39;00m \u001b[38;5;129;01mnot\u001b[39;00m signaled:\n\u001b[32m--> \u001b[39m\u001b[32m622\u001b[39m     signaled = \u001b[38;5;28;43mself\u001b[39;49m\u001b[43m.\u001b[49m\u001b[43m_cond\u001b[49m\u001b[43m.\u001b[49m\u001b[43mwait\u001b[49m\u001b[43m(\u001b[49m\u001b[43mtimeout\u001b[49m\u001b[43m)\u001b[49m\n\u001b[32m    623\u001b[39m \u001b[38;5;28;01mreturn\u001b[39;00m signaled\n",
      "\u001b[36mFile \u001b[39m\u001b[32m/software/genoa/r24.04/Python/3.11.5-GCCcore-13.2.0/lib/python3.11/threading.py:320\u001b[39m, in \u001b[36mCondition.wait\u001b[39m\u001b[34m(self, timeout)\u001b[39m\n\u001b[32m    318\u001b[39m \u001b[38;5;28;01mtry\u001b[39;00m:    \u001b[38;5;66;03m# restore state no matter what (e.g., KeyboardInterrupt)\u001b[39;00m\n\u001b[32m    319\u001b[39m     \u001b[38;5;28;01mif\u001b[39;00m timeout \u001b[38;5;129;01mis\u001b[39;00m \u001b[38;5;28;01mNone\u001b[39;00m:\n\u001b[32m--> \u001b[39m\u001b[32m320\u001b[39m         \u001b[43mwaiter\u001b[49m\u001b[43m.\u001b[49m\u001b[43macquire\u001b[49m\u001b[43m(\u001b[49m\u001b[43m)\u001b[49m\n\u001b[32m    321\u001b[39m         gotit = \u001b[38;5;28;01mTrue\u001b[39;00m\n\u001b[32m    322\u001b[39m     \u001b[38;5;28;01melse\u001b[39;00m:\n",
      "\u001b[31mKeyboardInterrupt\u001b[39m: "
     ]
    }
   ],
   "source": [
    "with Pool(10) as p:\n",
    "    p.map(\n",
    "        _render_to_file,\n",
    "        [\n",
    "            \"__res__\",\n",
    "        ],\n",
    "    )"
   ]
  },
  {
   "cell_type": "code",
   "execution_count": null,
   "id": "eb0bb920-cc2d-450b-9cb8-931adbae00ac",
   "metadata": {},
   "outputs": [],
   "source": [
    "e"
   ]
  }
 ],
 "metadata": {
  "kernelspec": {
   "display_name": "Python 3 (ipykernel)",
   "language": "python",
   "name": "python3"
  },
  "language_info": {
   "codemirror_mode": {
    "name": "ipython",
    "version": 3
   },
   "file_extension": ".py",
   "mimetype": "text/x-python",
   "name": "python",
   "nbconvert_exporter": "python",
   "pygments_lexer": "ipython3",
   "version": "3.11.5"
  }
 },
 "nbformat": 4,
 "nbformat_minor": 5
}
