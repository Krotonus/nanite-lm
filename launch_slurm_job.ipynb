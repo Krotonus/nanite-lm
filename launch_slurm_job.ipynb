{
 "cells": [
  {
   "cell_type": "code",
   "execution_count": 1,
   "id": "9a60cb1b-198e-4375-ae31-40a2389aaaee",
   "metadata": {},
   "outputs": [],
   "source": [
    "import time\n",
    "from typing import Any\n",
    "from omegaconf import OmegaConf\n",
    "from codebase.stool import StoolArgs, launch_job"
   ]
  },
  {
   "cell_type": "code",
   "execution_count": 2,
   "id": "c7c437b1-65b9-47ac-84ab-f6f894959ea8",
   "metadata": {},
   "outputs": [],
   "source": [
    "date = time.strftime(\"%m%d-%H%M%S\")\n",
    "capella_args = StoolArgs(\n",
    "    config=\"./experiments/baseline_transformer/configs/debug.yaml\",\n",
    "    script=\"experiments.baseline_transformer.train\",\n",
    "    copy_code= False,\n",
    "    nodes = 1,  # The number of nodes to run the job on.\n",
    "    ngpu = 1,  # The number of GPUs required per node.\n",
    "    ncpu = 32,  # The number of CPUs allocated per GPU.\n",
    "    mem = \"32Gb\",\n",
    "    anaconda = \"/data/horse/ws/lama722b-nanite-lm/nanite-lm/.env\",\n",
    "    time = 60,\n",
    "    account = \"p_scads\",\n",
    "    partition = \"capella\"\n",
    ")\n",
    "capella_args.config = OmegaConf.load(capella_args.config)\n",
    "capella_args.config['dump_dir'] = f\"/data/horse/ws/lama722b-nanite-lm/dumps/{date}\""
   ]
  },
  {
   "cell_type": "code",
   "execution_count": 3,
   "id": "76dc5b07-1468-400a-9c32-be22a6b88cbc",
   "metadata": {},
   "outputs": [
    {
     "name": "stdout",
     "output_type": "stream",
     "text": [
      "Creating directories...\n",
      "Saving config file ...\n",
      "Writing sbatch command ...\n",
      "> \u001b[32m/data/horse/ws/lama722b-nanite-lm/nanite-lm/codebase/stool.py\u001b[39m(\u001b[92m211\u001b[39m)\u001b[36mlaunch_job\u001b[39m\u001b[34m()\u001b[39m\n",
      "\u001b[32m    209\u001b[39m     \u001b[38;5;28;01mimport\u001b[39;00m pdb; pdb.set_trace()\n",
      "\u001b[32m    210\u001b[39m \n",
      "\u001b[32m--> 211\u001b[39m     print(\u001b[33m\"Submitting job ...\"\u001b[39m)\n",
      "\u001b[32m    212\u001b[39m     os.system(\u001b[33mf\"{args.launcher} {dump_dir}/submit.slurm\"\u001b[39m)\n",
      "\u001b[32m    213\u001b[39m \n",
      "\n"
     ]
    },
    {
     "name": "stdin",
     "output_type": "stream",
     "text": [
      "ipdb>  exit\n"
     ]
    }
   ],
   "source": [
    "launch_job(capella_args)"
   ]
  },
  {
   "cell_type": "markdown",
   "id": "15c202a1-3315-497e-bd63-f046c86696a0",
   "metadata": {},
   "source": [
    "# Creating Multiple config files."
   ]
  },
  {
   "cell_type": "code",
   "execution_count": 11,
   "id": "0ae53f1d-47c4-454b-9f5d-bf5241d3e72d",
   "metadata": {},
   "outputs": [],
   "source": [
    "import os\n",
    "from omegaconf import OmegaConf\n",
    "from codebase.stool import StoolArgs, launch_job"
   ]
  },
  {
   "cell_type": "code",
   "execution_count": 12,
   "id": "3bb8a5c0-06a5-428b-9016-af50bbdbb137",
   "metadata": {},
   "outputs": [],
   "source": [
    "base_config_path = \"experiments/baseline_transformer/configs/debug.yaml\"\n",
    "base_config = OmegaConf.load(base_config_path)"
   ]
  },
  {
   "cell_type": "code",
   "execution_count": 13,
   "id": "cfe5c792-37ba-4bcb-80c5-5f46c7fd6589",
   "metadata": {},
   "outputs": [
    {
     "name": "stdout",
     "output_type": "stream",
     "text": [
      "{'dump_dir': '/home/lama722b/nanite_lm/dumps/debug', 'name': 'debug', 'steps': 1000, 'probe_freq': 100, 'seed': 777, 'optim': {'lr': 0.0003, 'warmup': 2000, 'lr_min_ratio': 1e-06, 'clip': 10.0}, 'distributed': {'fsdp_type': 'full_shard', 'compile': True, 'model_dtype': 'bf16', 'matmul_allow_tf32': False, 'selective_activation_checkpointing': False, 'tp_size': 1}, 'model': {'dim': 128, 'n_layers': 12, 'n_heads': 4}, 'data': {'root_dir': '/home/lama722b/nanite_lm/data/fineweb', 'sources': {'de_shuffled': 60.0, 'en_shuffled': 40.0}, 'batch_size': 4, 'prefetch_size': 64, 'seq_len': 2048, 'n_views': 2, 'load_async': True, 'tokenizer': {'name': 'sp', 'path': '/home/lama722b/nanite_lm/tokenizers/gemma/tokenizer.model'}}, 'profiling': {'run': True}, 'checkpoint': {'dump': {'every': 100, 'keep': 1}, 'eval': {'every': 100, 'keep': 1}, 'continue_training_from_init': False}, 'logging': {'freq': 10, 'wandb': {'project': 'custom_codebase', 'entity': 'scads-nlp', 'tags': None, 'group': None, 'name': 'debug'}}}\n"
     ]
    }
   ],
   "source": [
    "print(base_config)"
   ]
  },
  {
   "cell_type": "markdown",
   "id": "dc010bd5-8611-4b81-9015-1e86c13a744d",
   "metadata": {},
   "source": [
    "## Define the Hyperparameters for sweep"
   ]
  },
  {
   "cell_type": "code",
   "execution_count": 16,
   "id": "4ac8d41a-5568-4ba4-8bd1-1f2508a2acfe",
   "metadata": {},
   "outputs": [],
   "source": [
    "lrs = [5e-4, 1e-4]\n",
    "widths = [16, 32, 64, 128]\n",
    "fixed_n_heads = 4 "
   ]
  },
  {
   "cell_type": "markdown",
   "id": "129e30a1-a623-493e-9ac3-17d36eff3584",
   "metadata": {},
   "source": [
    "## Loop and launch the jobs"
   ]
  },
  {
   "cell_type": "code",
   "execution_count": null,
   "id": "1c5c185b-a68b-4df3-a499-7dc1a3b7321f",
   "metadata": {},
   "outputs": [],
   "source": [
    "for lr in lrs:\n",
    "    for width in widths:\n",
    "        # Create a deep copy of the base config for each job to avoid modifying it\n",
    "        current_config = OmegaConf.to_container(base_config, resolve=True)\n",
    "        current_config = OmegaConf.create(current_config) # Convert back to OmegaConf object\n",
    "    \n",
    "        # Override hyperparameters\n",
    "        current_config.optim.lr = lr\n",
    "        current_config.model.dim = width\n",
    "        current_config.model.n_heads = fixed_n_heads\n",
    "    \n",
    "        # Customize job name and dump directory for each run\n",
    "        job_name = f\"FineWeb_DE_40_EN_60_lr{lr}_dim{width}\"\n",
    "        dump_dir = os.path.join(\n",
    "            \"/home/lama722b/nanite_lm/dumps/lr_sweep\",\n",
    "            f\"sweep_lr{str(lr).replace('.', 'p')}_dim{width}\" # Using 'p' for point in file name\n",
    "        )\n",
    "        current_config.name = job_name\n",
    "        current_config.dump_dir = dump_dir\n",
    "        current_config.checkpoint.path = os.path.join(dump_dir, \"checkpoints\") # Update checkpoint path as well\n",
    "    \n",
    "        print(f\"Preparing to launch job: {job_name}\")\n",
    "        print(f\"  Learning Rate: {current_config.optim.lr}\")\n",
    "        print(f\"  Model Dimension: {current_config.model.dim}\")\n",
    "        print(f\"  Number of Heads: {current_config.model.n_heads}\")\n",
    "        print(f\"  Dump Directory: {current_config.dump_dir}\")\n",
    "    \n",
    "        # --- Configure StoolArgs for the Job ---\n",
    "        # These reflect the SBATCH parameters from your bash script\n",
    "        # Note: The `stool.py` uses `nodes` directly, while your bash script implies `nodes=1` and `ntasks=1`.\n",
    "        # For a single job on one node with multiple GPUs, `nodes=1` and `ngpu=desired_gpus_per_node`.\n",
    "        # The bash script uses `gres=gpu:1`, suggesting 1 GPU per task/node.\n",
    "        # Let's adjust StoolArgs to reflect this.\n",
    "    \n",
    "        stool_args = StoolArgs(\n",
    "            config=current_config,\n",
    "            launcher=\"sbatch\",\n",
    "            script=\"experiments.baseline_transformer.train\",\n",
    "            copy_code=False,\n",
    "            dirs_exists_ok=True, # Allow creating directories if they exist, useful for sweeps\n",
    "            override=False, # Set to True with extreme caution, as it deletes existing dump directories\n",
    "            nodes=1,\n",
    "            ngpu=1, # From `--gres=gpu:1` in bash script\n",
    "            ncpu=14, # From `--cpus-per-task=12` in bash script\n",
    "            mem=4096,\n",
    "            python_env=\"/data/horse/ws/lama722b-nanite-lm/nanite-lm/.env\", # This is derived from `source /data/horse/ws/lama722b-nanite-lm/nanite-lm/.env/bin/activate`\n",
    "            constraint=\"\", # No specific constraint in bash script\n",
    "            exclude=\"\", # No exclusion in bash script\n",
    "            time=2*60, # 18 hours in minutes from `--time=18:00:00`\n",
    "            account=\"p_scads_nlp\", # From `--account=p_scads_nlp`\n",
    "        )\n",
    "        #print(stool_args)\n",
    "        # Call the launch_job function\n",
    "        launch_job(stool_args)\n",
    "        print(\"-\" * 50)"
   ]
  },
  {
   "cell_type": "code",
   "execution_count": null,
   "id": "4fccb90d-65db-40f5-9b9f-c11bdbbfd88d",
   "metadata": {},
   "outputs": [],
   "source": []
  },
  {
   "cell_type": "code",
   "execution_count": null,
   "id": "7efddd10-cb63-4378-b5e2-eb0d9da67f15",
   "metadata": {},
   "outputs": [],
   "source": []
  }
 ],
 "metadata": {
  "kernelspec": {
   "display_name": "Python 3 (ipykernel)",
   "language": "python",
   "name": "python3"
  },
  "language_info": {
   "codemirror_mode": {
    "name": "ipython",
    "version": 3
   },
   "file_extension": ".py",
   "mimetype": "text/x-python",
   "name": "python",
   "nbconvert_exporter": "python",
   "pygments_lexer": "ipython3",
   "version": "3.11.5"
  }
 },
 "nbformat": 4,
 "nbformat_minor": 5
}
