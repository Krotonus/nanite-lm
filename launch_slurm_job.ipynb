{
 "cells": [
  {
   "cell_type": "code",
   "execution_count": 1,
   "id": "9a60cb1b-198e-4375-ae31-40a2389aaaee",
   "metadata": {},
   "outputs": [],
   "source": [
    "import time\n",
    "from typing import Any\n",
    "from omegaconf import OmegaConf\n",
    "from codebase.stool import StoolArgs, launch_job"
   ]
  },
  {
   "cell_type": "code",
   "execution_count": 2,
   "id": "c7c437b1-65b9-47ac-84ab-f6f894959ea8",
   "metadata": {},
   "outputs": [],
   "source": [
    "date = time.strftime(\"%m%d-%H%M%S\")\n",
    "capella_args = StoolArgs(\n",
    "    config=\"./experiments/baseline_transformer/configs/debug.yaml\",\n",
    "    script=\"experiments.baseline_transformer.train\",\n",
    "    copy_code= False,\n",
    "    nodes = 1,  # The number of nodes to run the job on.\n",
    "    ngpu = 1,  # The number of GPUs required per node.\n",
    "    ncpu = 32,  # The number of CPUs allocated per GPU.\n",
    "    mem = \"32Gb\",\n",
    "    anaconda = \"/data/horse/ws/lama722b-nanite-lm/nanite-lm/.env\",\n",
    "    time = 60,\n",
    "    account = \"p_scads\",\n",
    "    partition = \"capella\"\n",
    ")\n",
    "capella_args.config = OmegaConf.load(capella_args.config)\n",
    "capella_args.config['dump_dir'] = f\"/data/horse/ws/lama722b-nanite-lm/dumps/{date}\""
   ]
  },
  {
   "cell_type": "code",
   "execution_count": 3,
   "id": "76dc5b07-1468-400a-9c32-be22a6b88cbc",
   "metadata": {},
   "outputs": [
    {
     "name": "stdout",
     "output_type": "stream",
     "text": [
      "Creating directories...\n",
      "Saving config file ...\n",
      "Writing sbatch command ...\n",
      "> \u001b[32m/data/horse/ws/lama722b-nanite-lm/nanite-lm/codebase/stool.py\u001b[39m(\u001b[92m211\u001b[39m)\u001b[36mlaunch_job\u001b[39m\u001b[34m()\u001b[39m\n",
      "\u001b[32m    209\u001b[39m     \u001b[38;5;28;01mimport\u001b[39;00m pdb; pdb.set_trace()\n",
      "\u001b[32m    210\u001b[39m \n",
      "\u001b[32m--> 211\u001b[39m     print(\u001b[33m\"Submitting job ...\"\u001b[39m)\n",
      "\u001b[32m    212\u001b[39m     os.system(\u001b[33mf\"{args.launcher} {dump_dir}/submit.slurm\"\u001b[39m)\n",
      "\u001b[32m    213\u001b[39m \n",
      "\n"
     ]
    },
    {
     "name": "stdin",
     "output_type": "stream",
     "text": [
      "ipdb>  exit\n"
     ]
    }
   ],
   "source": [
    "launch_job(capella_args)"
   ]
  },
  {
   "cell_type": "code",
   "execution_count": null,
   "id": "bb8e3ec0-f1cb-485f-ac16-b61b7d774b82",
   "metadata": {},
   "outputs": [],
   "source": []
  }
 ],
 "metadata": {
  "kernelspec": {
   "display_name": "Python 3 (ipykernel)",
   "language": "python",
   "name": "python3"
  },
  "language_info": {
   "codemirror_mode": {
    "name": "ipython",
    "version": 3
   },
   "file_extension": ".py",
   "mimetype": "text/x-python",
   "name": "python",
   "nbconvert_exporter": "python",
   "pygments_lexer": "ipython3",
   "version": "3.11.5"
  }
 },
 "nbformat": 4,
 "nbformat_minor": 5
}
